{
 "cells": [
  {
   "cell_type": "markdown",
   "source": [
    "# Stimulating AI-Driven Mental Health Guidance with NLP"
   ],
   "metadata": {
    "collapsed": false
   },
   "id": "3b2b222a98a4b5d1"
  },
  {
   "cell_type": "markdown",
   "source": [
    "## Research Ideas\n",
    "- Creating sentence-matching algorithms for natural language processing to accurately match given questions with appropriate advice and guidance.\n",
    "- Analyzing the psychological conversations to gain insights into topics such as stress, anxiety, and depression.\n",
    "- Developing personalized natural language processing models tailored to provide users with appropriate advice based on their queries and based on their individual state of mental health"
   ],
   "metadata": {
    "collapsed": false
   },
   "id": "7f3f22353c23e6cd"
  },
  {
   "cell_type": "code",
   "execution_count": 1,
   "outputs": [],
   "source": [
    "import pandas as pd\n",
    "import re"
   ],
   "metadata": {
    "collapsed": false,
    "ExecuteTime": {
     "end_time": "2024-01-31T15:37:04.327366Z",
     "start_time": "2024-01-31T15:37:04.306766900Z"
    }
   },
   "id": "32758006c25e0729"
  },
  {
   "cell_type": "code",
   "execution_count": 2,
   "outputs": [],
   "source": [
    "data = pd.read_csv(\"C:/Users/ikry/OneDrive/Desktop/MSc DS/PROJECTS/mental_health_conversations.csv\")"
   ],
   "metadata": {
    "collapsed": false,
    "ExecuteTime": {
     "end_time": "2024-01-31T15:37:04.430521100Z",
     "start_time": "2024-01-31T15:37:04.320364400Z"
    }
   },
   "id": "192e7bafa4455e6d"
  },
  {
   "cell_type": "code",
   "execution_count": 3,
   "outputs": [],
   "source": [
    "# preprocessing text data\n",
    "def preprocess_text(text):\n",
    "    if pd.isnull(text):\n",
    "        return \"\"\n",
    "    text = text.lower()  # Convert to lowercase\n",
    "    text = re.sub(r'\\d+', '', text)  # Remove digits\n",
    "    text = re.sub(r'\\s+', ' ', text)  # Replace multiple spaces with a single space\n",
    "    text = re.sub(r'[^\\w\\s]', '', text)  # Remove special characters\n",
    "    return text.strip()\n",
    "\n",
    "data['Context_Clean'] = data['Context'].apply(preprocess_text)\n",
    "data['Response_Clean'] = data['Response'].apply(preprocess_text)"
   ],
   "metadata": {
    "collapsed": false,
    "ExecuteTime": {
     "end_time": "2024-01-31T15:37:04.730135500Z",
     "start_time": "2024-01-31T15:37:04.432523200Z"
    }
   },
   "id": "d1658aecf64fde7a"
  },
  {
   "cell_type": "markdown",
   "source": [
    "## Emotion Detection"
   ],
   "metadata": {
    "collapsed": false
   },
   "id": "8df79c051dd5405a"
  },
  {
   "cell_type": "markdown",
   "source": [
    "### Here are a few popular pre-trained models for emotion detection:\n",
    "\n",
    "DistilBERT-based Models:\n",
    "bhadresh-savani/distilbert-base-uncased-emotion\n",
    "nlptown/bert-base-multilingual-uncased-sentiment\n",
    "\n",
    "BERT-based Models:\n",
    "nlptown/bert-base-multilingual-uncased-sentiment\n",
    "\n",
    "RoBERTa-based Models:\n",
    "textattack/roberta-base-SST-2\n",
    "\n",
    "XLNet-based Models:\n",
    "textattack/xlnet-base-cased-SST-2"
   ],
   "metadata": {
    "collapsed": false
   },
   "id": "7159d27b4bd17ec0"
  },
  {
   "cell_type": "code",
   "execution_count": 27,
   "outputs": [
    {
     "name": "stdout",
     "output_type": "stream",
     "text": [
      "Sample text: im going through some things with my feelings and myself i barely sleep and i do nothing but think about how im worthless and how i shouldnt be here ive never tried or contemplated suicide ive always wanted to fix my issues but i never get around to it how can i change my feeling of being worthless to everyone\n",
      "Detected emotions: [{'label': 'sadness', 'score': 0.9985948204994202}]\n"
     ]
    }
   ],
   "source": [
    "from transformers import pipeline\n",
    "from sklearn.pipeline import Pipeline\n",
    "import tensorflow as tf\n",
    "\n",
    "# Load the emotion detection model with the tokenizer\n",
    "emotion_detector = pipeline(\"text-classification\", model=\"bhadresh-savani/distilbert-base-uncased-emotion\")\n",
    "#Create a pipeline for emotion detection using a pre-trained model. The specified model is \"bhadresh-savani/distilbert-base-uncased-emotion,\" which appears to be a custom model trained for emotion detection based on the DistilBERT architecture. The top_k parameter is set to None, indicating that all predictions should be returned.\n",
    "\n",
    "#tasks available for pipeline are ['audio-classification', 'automatic-speech-recognition', 'feature-extraction', 'text-classification', 'token-classification', 'question-answering', 'table-question-answering', 'fill-mask', 'summarization', 'translation', 'text2text-generation', 'text-generation', 'zero-shot-classification', 'conversational', 'image-classification', 'object-detection', 'translation_XX_to_YY']\n",
    "\n",
    "# Function to detect emotions with text truncation\n",
    "def detect_emotion(text):\n",
    "    try:\n",
    "        # Pass the raw text directly to the emotion detector\n",
    "        return emotion_detector(text, truncation=True)\n",
    "    except Exception as e:\n",
    "        print(f\"Error during emotion detection: {e}\")\n",
    "        return None\n",
    "    \n",
    "sample_text = data['Context_Clean'].iloc[0]\n",
    "print(\"Sample text:\", sample_text)\n",
    "\n",
    "detected_emotions = detect_emotion(sample_text)\n",
    "\n",
    "print(\"Detected emotions:\", detected_emotions)"
   ],
   "metadata": {
    "collapsed": false,
    "ExecuteTime": {
     "end_time": "2024-01-31T16:40:17.976951Z",
     "start_time": "2024-01-31T16:40:13.918149Z"
    }
   },
   "id": "aa72c04b52ca93fe"
  },
  {
   "cell_type": "markdown",
   "source": [
    "## Apply emotion detection to the whole dataset"
   ],
   "metadata": {
    "collapsed": false
   },
   "id": "6148f56434fb440b"
  },
  {
   "cell_type": "code",
   "execution_count": 30,
   "outputs": [
    {
     "name": "stderr",
     "output_type": "stream",
     "text": [
      "Processing batches: 100%|██████████| 110/110 [03:03<00:00,  1.67s/it]\n",
      "Processing batches: 100%|██████████| 110/110 [06:10<00:00,  3.37s/it]\n"
     ]
    }
   ],
   "source": [
    "import numpy as np\n",
    "from tqdm import tqdm\n",
    "\n",
    "def get_dominant_emotion(emotion_output):\n",
    "    if emotion_output and isinstance(emotion_output, list):\n",
    "        emotions = emotion_output\n",
    "        if emotions:\n",
    "            return sorted(emotions, key=lambda x: x.get('score', 0), reverse=True)[0].get('label', None)\n",
    "    return None\n",
    "\n",
    "def detect_emotion(text):\n",
    "    try:\n",
    "        # Pass the raw text directly to the emotion detector\n",
    "        emotion_result = emotion_detector(text, truncation=True)[0]  \n",
    "        return emotion_result\n",
    "    except Exception as e:\n",
    "        print(f\"Error during emotion detection: {e}\")\n",
    "        return None\n",
    "\n",
    "def process_in_batches(texts, batch_size=32):\n",
    "    emotions = []\n",
    "    for i in tqdm(range(0, len(texts), batch_size), desc=\"Processing batches\"):\n",
    "        batch_texts = texts[i:i + batch_size]\n",
    "        batch_emotions = [detect_emotion(text) for text in batch_texts]\n",
    "        dominant_emotions = [get_dominant_emotion(e) for e in batch_emotions]\n",
    "        emotions.extend(dominant_emotions)\n",
    "    return emotions\n",
    "\n",
    "# Apply the function to the Context and Response columns\n",
    "batch_size = 32  \n",
    "data['Context_Emotion'] = process_in_batches(data['Context_Clean'].tolist(), batch_size=batch_size)\n",
    "data['Response_Emotion'] = process_in_batches(data['Response_Clean'].tolist(), batch_size=batch_size)\n"
   ],
   "metadata": {
    "collapsed": false,
    "ExecuteTime": {
     "end_time": "2024-01-31T17:02:02.345072300Z",
     "start_time": "2024-01-31T16:52:48.388936Z"
    }
   },
   "id": "6a5b93f7dd35da7b"
  },
  {
   "cell_type": "code",
   "execution_count": 32,
   "outputs": [
    {
     "name": "stderr",
     "output_type": "stream",
     "text": [
      "Processing batches: 100%|██████████| 110/110 [04:31<00:00,  2.47s/it]\n",
      "Processing batches: 100%|██████████| 110/110 [11:38<00:00,  6.35s/it]\n"
     ]
    }
   ],
   "source": [
    "def process_in_batches(texts, batch_size=32):\n",
    "    emotions = []\n",
    "    for i in tqdm(range(0, len(texts), batch_size), desc=\"Processing batches\"):\n",
    "        batch_texts = texts[i:i + batch_size]\n",
    "        batch_emotions = [detect_emotion(text) for text in batch_texts]\n",
    "\n",
    "        # Filter out empty results\n",
    "        batch_emotions = [e for e in batch_emotions if e is not None]\n",
    "\n",
    "        dominant_emotions = [get_dominant_emotion(e) for e in batch_emotions]\n",
    "        emotions.extend(dominant_emotions)\n",
    "    return emotions\n",
    "\n",
    "# Apply the function to the Context and Response columns\n",
    "batch_size = 32  \n",
    "data['Context_Emotion'] = process_in_batches(data['Context_Clean'].tolist(), batch_size=batch_size)\n",
    "data['Response_Emotion'] = process_in_batches(data['Response_Clean'].tolist(), batch_size=batch_size)"
   ],
   "metadata": {
    "collapsed": false,
    "ExecuteTime": {
     "end_time": "2024-01-31T17:20:58.754037400Z",
     "start_time": "2024-01-31T17:04:48.579514800Z"
    }
   },
   "id": "fca05ea99dc9a84f"
  },
  {
   "cell_type": "markdown",
   "source": [
    "## Analyzing Emotion Patterns"
   ],
   "metadata": {
    "collapsed": false
   },
   "id": "85a5eb9aa88ba83"
  },
  {
   "cell_type": "code",
   "execution_count": 33,
   "outputs": [
    {
     "name": "stdout",
     "output_type": "stream",
     "text": [
      "Context Emotion Counts:\n",
      " Series([], Name: count, dtype: int64)\n",
      "\n",
      "Response Emotion Counts:\n",
      " Series([], Name: count, dtype: int64)\n"
     ]
    }
   ],
   "source": [
    "context_emotion_counts = data['Context_Emotion'].value_counts()\n",
    "response_emotion_counts = data['Response_Emotion'].value_counts()\n",
    "\n",
    "print(\"Context Emotion Counts:\\n\", context_emotion_counts)\n",
    "print(\"\\nResponse Emotion Counts:\\n\", response_emotion_counts)\n",
    "#why there are no emotions to count???"
   ],
   "metadata": {
    "collapsed": false,
    "ExecuteTime": {
     "end_time": "2024-01-31T17:21:11.904688Z",
     "start_time": "2024-01-31T17:21:11.890680800Z"
    }
   },
   "id": "55c6ff4a321077ff"
  },
  {
   "cell_type": "code",
   "execution_count": 34,
   "outputs": [
    {
     "data": {
      "text/plain": "<Figure size 1000x600 with 1 Axes>",
      "image/png": "[encoded data removed]"
     },
     "metadata": {},
     "output_type": "display_data"
    },
    {
     "data": {
      "text/plain": "<Figure size 1000x600 with 1 Axes>",
      "image/png": "[encoded data removed]"
     },
     "metadata": {},
     "output_type": "display_data"
    }
   ],
   "source": [
    "import matplotlib.pyplot as plt\n",
    "import seaborn as sns\n",
    "\n",
    "# Setting the aesthetic style of the plots\n",
    "sns.set(style=\"whitegrid\")\n",
    "\n",
    "# Plotting Context Emotion Counts\n",
    "plt.figure(figsize=(10, 6))\n",
    "sns.barplot(x=context_emotion_counts.index, y=context_emotion_counts.values)\n",
    "plt.title('Frequency of Emotions in Context')\n",
    "plt.xlabel('Emotion')\n",
    "plt.ylabel('Frequency')\n",
    "plt.show()\n",
    "\n",
    "# Plotting Response Emotion Counts\n",
    "plt.figure(figsize=(10, 6))\n",
    "sns.barplot(x=response_emotion_counts.index, y=response_emotion_counts.values)\n",
    "plt.title('Frequency of Emotions in Response')\n",
    "plt.xlabel('Emotion')\n",
    "plt.ylabel('Frequency')\n",
    "plt.show()"
   ],
   "metadata": {
    "collapsed": false,
    "ExecuteTime": {
     "end_time": "2024-01-31T17:21:17.870100700Z",
     "start_time": "2024-01-31T17:21:17.644335Z"
    }
   },
   "id": "43fd36b38236f31b"
  },
  {
   "cell_type": "code",
   "execution_count": 22,
   "outputs": [
    {
     "ename": "ValueError",
     "evalue": "zero-size array to reduction operation fmin which has no identity",
     "output_type": "error",
     "traceback": [
      "\u001B[1;31m---------------------------------------------------------------------------\u001B[0m",
      "\u001B[1;31mValueError\u001B[0m                                Traceback (most recent call last)",
      "Cell \u001B[1;32mIn[22], line 5\u001B[0m\n\u001B[0;32m      2\u001B[0m emotion_transitions \u001B[38;5;241m=\u001B[39m pd\u001B[38;5;241m.\u001B[39mcrosstab(data[\u001B[38;5;124m'\u001B[39m\u001B[38;5;124mContext_Emotion\u001B[39m\u001B[38;5;124m'\u001B[39m], data[\u001B[38;5;124m'\u001B[39m\u001B[38;5;124mResponse_Emotion\u001B[39m\u001B[38;5;124m'\u001B[39m])\n\u001B[0;32m      4\u001B[0m plt\u001B[38;5;241m.\u001B[39mfigure(figsize\u001B[38;5;241m=\u001B[39m(\u001B[38;5;241m10\u001B[39m, \u001B[38;5;241m8\u001B[39m))\n\u001B[1;32m----> 5\u001B[0m \u001B[43msns\u001B[49m\u001B[38;5;241;43m.\u001B[39;49m\u001B[43mheatmap\u001B[49m\u001B[43m(\u001B[49m\u001B[43memotion_transitions\u001B[49m\u001B[43m,\u001B[49m\u001B[43m \u001B[49m\u001B[43mannot\u001B[49m\u001B[38;5;241;43m=\u001B[39;49m\u001B[38;5;28;43;01mTrue\u001B[39;49;00m\u001B[43m,\u001B[49m\u001B[43m \u001B[49m\u001B[43mcmap\u001B[49m\u001B[38;5;241;43m=\u001B[39;49m\u001B[38;5;124;43m\"\u001B[39;49m\u001B[38;5;124;43mYlGnBu\u001B[39;49m\u001B[38;5;124;43m\"\u001B[39;49m\u001B[43m,\u001B[49m\u001B[43m \u001B[49m\u001B[43mfmt\u001B[49m\u001B[38;5;241;43m=\u001B[39;49m\u001B[38;5;124;43m'\u001B[39;49m\u001B[38;5;124;43md\u001B[39;49m\u001B[38;5;124;43m'\u001B[39;49m\u001B[43m)\u001B[49m\n\u001B[0;32m      6\u001B[0m plt\u001B[38;5;241m.\u001B[39mtitle(\u001B[38;5;124m'\u001B[39m\u001B[38;5;124mHeatmap of Emotion Transitions from Context to Response\u001B[39m\u001B[38;5;124m'\u001B[39m)\n\u001B[0;32m      7\u001B[0m plt\u001B[38;5;241m.\u001B[39mxlabel(\u001B[38;5;124m'\u001B[39m\u001B[38;5;124mResponse Emotion\u001B[39m\u001B[38;5;124m'\u001B[39m)\n",
      "File \u001B[1;32m~\\OneDrive\\Documents\\GitHub\\python-exercises\\venv\\lib\\site-packages\\seaborn\\matrix.py:446\u001B[0m, in \u001B[0;36mheatmap\u001B[1;34m(data, vmin, vmax, cmap, center, robust, annot, fmt, annot_kws, linewidths, linecolor, cbar, cbar_kws, cbar_ax, square, xticklabels, yticklabels, mask, ax, **kwargs)\u001B[0m\n\u001B[0;32m    365\u001B[0m \u001B[38;5;250m\u001B[39m\u001B[38;5;124;03m\"\"\"Plot rectangular data as a color-encoded matrix.\u001B[39;00m\n\u001B[0;32m    366\u001B[0m \n\u001B[0;32m    367\u001B[0m \u001B[38;5;124;03mThis is an Axes-level function and will draw the heatmap into the\u001B[39;00m\n\u001B[1;32m   (...)\u001B[0m\n\u001B[0;32m    443\u001B[0m \n\u001B[0;32m    444\u001B[0m \u001B[38;5;124;03m\"\"\"\u001B[39;00m\n\u001B[0;32m    445\u001B[0m \u001B[38;5;66;03m# Initialize the plotter object\u001B[39;00m\n\u001B[1;32m--> 446\u001B[0m plotter \u001B[38;5;241m=\u001B[39m \u001B[43m_HeatMapper\u001B[49m\u001B[43m(\u001B[49m\u001B[43mdata\u001B[49m\u001B[43m,\u001B[49m\u001B[43m \u001B[49m\u001B[43mvmin\u001B[49m\u001B[43m,\u001B[49m\u001B[43m \u001B[49m\u001B[43mvmax\u001B[49m\u001B[43m,\u001B[49m\u001B[43m \u001B[49m\u001B[43mcmap\u001B[49m\u001B[43m,\u001B[49m\u001B[43m \u001B[49m\u001B[43mcenter\u001B[49m\u001B[43m,\u001B[49m\u001B[43m \u001B[49m\u001B[43mrobust\u001B[49m\u001B[43m,\u001B[49m\u001B[43m \u001B[49m\u001B[43mannot\u001B[49m\u001B[43m,\u001B[49m\u001B[43m \u001B[49m\u001B[43mfmt\u001B[49m\u001B[43m,\u001B[49m\n\u001B[0;32m    447\u001B[0m \u001B[43m                      \u001B[49m\u001B[43mannot_kws\u001B[49m\u001B[43m,\u001B[49m\u001B[43m \u001B[49m\u001B[43mcbar\u001B[49m\u001B[43m,\u001B[49m\u001B[43m \u001B[49m\u001B[43mcbar_kws\u001B[49m\u001B[43m,\u001B[49m\u001B[43m \u001B[49m\u001B[43mxticklabels\u001B[49m\u001B[43m,\u001B[49m\n\u001B[0;32m    448\u001B[0m \u001B[43m                      \u001B[49m\u001B[43myticklabels\u001B[49m\u001B[43m,\u001B[49m\u001B[43m \u001B[49m\u001B[43mmask\u001B[49m\u001B[43m)\u001B[49m\n\u001B[0;32m    450\u001B[0m \u001B[38;5;66;03m# Add the pcolormesh kwargs here\u001B[39;00m\n\u001B[0;32m    451\u001B[0m kwargs[\u001B[38;5;124m\"\u001B[39m\u001B[38;5;124mlinewidths\u001B[39m\u001B[38;5;124m\"\u001B[39m] \u001B[38;5;241m=\u001B[39m linewidths\n",
      "File \u001B[1;32m~\\OneDrive\\Documents\\GitHub\\python-exercises\\venv\\lib\\site-packages\\seaborn\\matrix.py:163\u001B[0m, in \u001B[0;36m_HeatMapper.__init__\u001B[1;34m(self, data, vmin, vmax, cmap, center, robust, annot, fmt, annot_kws, cbar, cbar_kws, xticklabels, yticklabels, mask)\u001B[0m\n\u001B[0;32m    160\u001B[0m \u001B[38;5;28mself\u001B[39m\u001B[38;5;241m.\u001B[39mylabel \u001B[38;5;241m=\u001B[39m ylabel \u001B[38;5;28;01mif\u001B[39;00m ylabel \u001B[38;5;129;01mis\u001B[39;00m \u001B[38;5;129;01mnot\u001B[39;00m \u001B[38;5;28;01mNone\u001B[39;00m \u001B[38;5;28;01melse\u001B[39;00m \u001B[38;5;124m\"\u001B[39m\u001B[38;5;124m\"\u001B[39m\n\u001B[0;32m    162\u001B[0m \u001B[38;5;66;03m# Determine good default values for the colormapping\u001B[39;00m\n\u001B[1;32m--> 163\u001B[0m \u001B[38;5;28;43mself\u001B[39;49m\u001B[38;5;241;43m.\u001B[39;49m\u001B[43m_determine_cmap_params\u001B[49m\u001B[43m(\u001B[49m\u001B[43mplot_data\u001B[49m\u001B[43m,\u001B[49m\u001B[43m \u001B[49m\u001B[43mvmin\u001B[49m\u001B[43m,\u001B[49m\u001B[43m \u001B[49m\u001B[43mvmax\u001B[49m\u001B[43m,\u001B[49m\n\u001B[0;32m    164\u001B[0m \u001B[43m                            \u001B[49m\u001B[43mcmap\u001B[49m\u001B[43m,\u001B[49m\u001B[43m \u001B[49m\u001B[43mcenter\u001B[49m\u001B[43m,\u001B[49m\u001B[43m \u001B[49m\u001B[43mrobust\u001B[49m\u001B[43m)\u001B[49m\n\u001B[0;32m    166\u001B[0m \u001B[38;5;66;03m# Sort out the annotations\u001B[39;00m\n\u001B[0;32m    167\u001B[0m \u001B[38;5;28;01mif\u001B[39;00m annot \u001B[38;5;129;01mis\u001B[39;00m \u001B[38;5;28;01mNone\u001B[39;00m \u001B[38;5;129;01mor\u001B[39;00m annot \u001B[38;5;129;01mis\u001B[39;00m \u001B[38;5;28;01mFalse\u001B[39;00m:\n",
      "File \u001B[1;32m~\\OneDrive\\Documents\\GitHub\\python-exercises\\venv\\lib\\site-packages\\seaborn\\matrix.py:202\u001B[0m, in \u001B[0;36m_HeatMapper._determine_cmap_params\u001B[1;34m(self, plot_data, vmin, vmax, cmap, center, robust)\u001B[0m\n\u001B[0;32m    200\u001B[0m         vmin \u001B[38;5;241m=\u001B[39m np\u001B[38;5;241m.\u001B[39mnanpercentile(calc_data, \u001B[38;5;241m2\u001B[39m)\n\u001B[0;32m    201\u001B[0m     \u001B[38;5;28;01melse\u001B[39;00m:\n\u001B[1;32m--> 202\u001B[0m         vmin \u001B[38;5;241m=\u001B[39m \u001B[43mnp\u001B[49m\u001B[38;5;241;43m.\u001B[39;49m\u001B[43mnanmin\u001B[49m\u001B[43m(\u001B[49m\u001B[43mcalc_data\u001B[49m\u001B[43m)\u001B[49m\n\u001B[0;32m    203\u001B[0m \u001B[38;5;28;01mif\u001B[39;00m vmax \u001B[38;5;129;01mis\u001B[39;00m \u001B[38;5;28;01mNone\u001B[39;00m:\n\u001B[0;32m    204\u001B[0m     \u001B[38;5;28;01mif\u001B[39;00m robust:\n",
      "File \u001B[1;32m~\\OneDrive\\Documents\\GitHub\\python-exercises\\venv\\lib\\site-packages\\numpy\\lib\\nanfunctions.py:343\u001B[0m, in \u001B[0;36mnanmin\u001B[1;34m(a, axis, out, keepdims, initial, where)\u001B[0m\n\u001B[0;32m    338\u001B[0m     kwargs[\u001B[38;5;124m'\u001B[39m\u001B[38;5;124mwhere\u001B[39m\u001B[38;5;124m'\u001B[39m] \u001B[38;5;241m=\u001B[39m where\n\u001B[0;32m    340\u001B[0m \u001B[38;5;28;01mif\u001B[39;00m \u001B[38;5;28mtype\u001B[39m(a) \u001B[38;5;129;01mis\u001B[39;00m np\u001B[38;5;241m.\u001B[39mndarray \u001B[38;5;129;01mand\u001B[39;00m a\u001B[38;5;241m.\u001B[39mdtype \u001B[38;5;241m!=\u001B[39m np\u001B[38;5;241m.\u001B[39mobject_:\n\u001B[0;32m    341\u001B[0m     \u001B[38;5;66;03m# Fast, but not safe for subclasses of ndarray, or object arrays,\u001B[39;00m\n\u001B[0;32m    342\u001B[0m     \u001B[38;5;66;03m# which do not implement isnan (gh-9009), or fmin correctly (gh-8975)\u001B[39;00m\n\u001B[1;32m--> 343\u001B[0m     res \u001B[38;5;241m=\u001B[39m np\u001B[38;5;241m.\u001B[39mfmin\u001B[38;5;241m.\u001B[39mreduce(a, axis\u001B[38;5;241m=\u001B[39maxis, out\u001B[38;5;241m=\u001B[39mout, \u001B[38;5;241m*\u001B[39m\u001B[38;5;241m*\u001B[39mkwargs)\n\u001B[0;32m    344\u001B[0m     \u001B[38;5;28;01mif\u001B[39;00m np\u001B[38;5;241m.\u001B[39misnan(res)\u001B[38;5;241m.\u001B[39many():\n\u001B[0;32m    345\u001B[0m         warnings\u001B[38;5;241m.\u001B[39mwarn(\u001B[38;5;124m\"\u001B[39m\u001B[38;5;124mAll-NaN slice encountered\u001B[39m\u001B[38;5;124m\"\u001B[39m, \u001B[38;5;167;01mRuntimeWarning\u001B[39;00m,\n\u001B[0;32m    346\u001B[0m                       stacklevel\u001B[38;5;241m=\u001B[39m\u001B[38;5;241m2\u001B[39m)\n",
      "\u001B[1;31mValueError\u001B[0m: zero-size array to reduction operation fmin which has no identity"
     ]
    },
    {
     "data": {
      "text/plain": "<Figure size 1000x800 with 0 Axes>"
     },
     "metadata": {},
     "output_type": "display_data"
    }
   ],
   "source": [
    "# Create a DataFrame for emotion transitions\n",
    "emotion_transitions = pd.crosstab(data['Context_Emotion'], data['Response_Emotion'])\n",
    "\n",
    "plt.figure(figsize=(10, 8))\n",
    "sns.heatmap(emotion_transitions, annot=True, cmap=\"YlGnBu\", fmt='d')\n",
    "plt.title('Heatmap of Emotion Transitions from Context to Response')\n",
    "plt.xlabel('Response Emotion')\n",
    "plt.ylabel('Context Emotion')\n",
    "plt.show()"
   ],
   "metadata": {
    "collapsed": false,
    "ExecuteTime": {
     "end_time": "2024-01-31T16:27:11.171724700Z",
     "start_time": "2024-01-31T16:27:10.435957500Z"
    }
   },
   "id": "8d3fbc17c1fd640a"
  },
  {
   "cell_type": "code",
   "execution_count": 23,
   "outputs": [
    {
     "ename": "ValueError",
     "evalue": "We need at least 1 word to plot a word cloud, got 0.",
     "output_type": "error",
     "traceback": [
      "\u001B[1;31m---------------------------------------------------------------------------\u001B[0m",
      "\u001B[1;31mValueError\u001B[0m                                Traceback (most recent call last)",
      "Cell \u001B[1;32mIn[23], line 18\u001B[0m\n\u001B[0;32m     15\u001B[0m         plt\u001B[38;5;241m.\u001B[39maxis(\u001B[38;5;124m\"\u001B[39m\u001B[38;5;124moff\u001B[39m\u001B[38;5;124m\"\u001B[39m)\n\u001B[0;32m     16\u001B[0m         plt\u001B[38;5;241m.\u001B[39mshow()\n\u001B[1;32m---> 18\u001B[0m \u001B[43mgenerate_word_clouds\u001B[49m\u001B[43m(\u001B[49m\u001B[43mdata\u001B[49m\u001B[43m,\u001B[49m\u001B[43m \u001B[49m\u001B[38;5;124;43m'\u001B[39;49m\u001B[38;5;124;43mContext_Emotion\u001B[39;49m\u001B[38;5;124;43m'\u001B[39;49m\u001B[43m)\u001B[49m\n",
      "Cell \u001B[1;32mIn[23], line 9\u001B[0m, in \u001B[0;36mgenerate_word_clouds\u001B[1;34m(data, column)\u001B[0m\n\u001B[0;32m      7\u001B[0m subset \u001B[38;5;241m=\u001B[39m data[data[column] \u001B[38;5;241m==\u001B[39m emotion]\n\u001B[0;32m      8\u001B[0m text \u001B[38;5;241m=\u001B[39m \u001B[38;5;124m\"\u001B[39m\u001B[38;5;124m \u001B[39m\u001B[38;5;124m\"\u001B[39m\u001B[38;5;241m.\u001B[39mjoin(review \u001B[38;5;28;01mfor\u001B[39;00m review \u001B[38;5;129;01min\u001B[39;00m subset\u001B[38;5;241m.\u001B[39mContext_Clean)\n\u001B[1;32m----> 9\u001B[0m wordcloud \u001B[38;5;241m=\u001B[39m \u001B[43mWordCloud\u001B[49m\u001B[43m(\u001B[49m\u001B[43mbackground_color\u001B[49m\u001B[38;5;241;43m=\u001B[39;49m\u001B[38;5;124;43m\"\u001B[39;49m\u001B[38;5;124;43mwhite\u001B[39;49m\u001B[38;5;124;43m\"\u001B[39;49m\u001B[43m)\u001B[49m\u001B[38;5;241;43m.\u001B[39;49m\u001B[43mgenerate\u001B[49m\u001B[43m(\u001B[49m\u001B[43mtext\u001B[49m\u001B[43m)\u001B[49m\n\u001B[0;32m     11\u001B[0m \u001B[38;5;66;03m# Display the generated image\u001B[39;00m\n\u001B[0;32m     12\u001B[0m plt\u001B[38;5;241m.\u001B[39mfigure(figsize\u001B[38;5;241m=\u001B[39m(\u001B[38;5;241m10\u001B[39m,\u001B[38;5;241m6\u001B[39m))\n",
      "File \u001B[1;32m~\\OneDrive\\Documents\\GitHub\\python-exercises\\venv\\lib\\site-packages\\wordcloud\\wordcloud.py:642\u001B[0m, in \u001B[0;36mWordCloud.generate\u001B[1;34m(self, text)\u001B[0m\n\u001B[0;32m    627\u001B[0m \u001B[38;5;28;01mdef\u001B[39;00m \u001B[38;5;21mgenerate\u001B[39m(\u001B[38;5;28mself\u001B[39m, text):\n\u001B[0;32m    628\u001B[0m \u001B[38;5;250m    \u001B[39m\u001B[38;5;124;03m\"\"\"Generate wordcloud from text.\u001B[39;00m\n\u001B[0;32m    629\u001B[0m \n\u001B[0;32m    630\u001B[0m \u001B[38;5;124;03m    The input \"text\" is expected to be a natural text. If you pass a sorted\u001B[39;00m\n\u001B[1;32m   (...)\u001B[0m\n\u001B[0;32m    640\u001B[0m \u001B[38;5;124;03m    self\u001B[39;00m\n\u001B[0;32m    641\u001B[0m \u001B[38;5;124;03m    \"\"\"\u001B[39;00m\n\u001B[1;32m--> 642\u001B[0m     \u001B[38;5;28;01mreturn\u001B[39;00m \u001B[38;5;28;43mself\u001B[39;49m\u001B[38;5;241;43m.\u001B[39;49m\u001B[43mgenerate_from_text\u001B[49m\u001B[43m(\u001B[49m\u001B[43mtext\u001B[49m\u001B[43m)\u001B[49m\n",
      "File \u001B[1;32m~\\OneDrive\\Documents\\GitHub\\python-exercises\\venv\\lib\\site-packages\\wordcloud\\wordcloud.py:624\u001B[0m, in \u001B[0;36mWordCloud.generate_from_text\u001B[1;34m(self, text)\u001B[0m\n\u001B[0;32m    607\u001B[0m \u001B[38;5;250m\u001B[39m\u001B[38;5;124;03m\"\"\"Generate wordcloud from text.\u001B[39;00m\n\u001B[0;32m    608\u001B[0m \n\u001B[0;32m    609\u001B[0m \u001B[38;5;124;03mThe input \"text\" is expected to be a natural text. If you pass a sorted\u001B[39;00m\n\u001B[1;32m   (...)\u001B[0m\n\u001B[0;32m    621\u001B[0m \u001B[38;5;124;03mself\u001B[39;00m\n\u001B[0;32m    622\u001B[0m \u001B[38;5;124;03m\"\"\"\u001B[39;00m\n\u001B[0;32m    623\u001B[0m words \u001B[38;5;241m=\u001B[39m \u001B[38;5;28mself\u001B[39m\u001B[38;5;241m.\u001B[39mprocess_text(text)\n\u001B[1;32m--> 624\u001B[0m \u001B[38;5;28;43mself\u001B[39;49m\u001B[38;5;241;43m.\u001B[39;49m\u001B[43mgenerate_from_frequencies\u001B[49m\u001B[43m(\u001B[49m\u001B[43mwords\u001B[49m\u001B[43m)\u001B[49m\n\u001B[0;32m    625\u001B[0m \u001B[38;5;28;01mreturn\u001B[39;00m \u001B[38;5;28mself\u001B[39m\n",
      "File \u001B[1;32m~\\OneDrive\\Documents\\GitHub\\python-exercises\\venv\\lib\\site-packages\\wordcloud\\wordcloud.py:410\u001B[0m, in \u001B[0;36mWordCloud.generate_from_frequencies\u001B[1;34m(self, frequencies, max_font_size)\u001B[0m\n\u001B[0;32m    408\u001B[0m frequencies \u001B[38;5;241m=\u001B[39m \u001B[38;5;28msorted\u001B[39m(frequencies\u001B[38;5;241m.\u001B[39mitems(), key\u001B[38;5;241m=\u001B[39mitemgetter(\u001B[38;5;241m1\u001B[39m), reverse\u001B[38;5;241m=\u001B[39m\u001B[38;5;28;01mTrue\u001B[39;00m)\n\u001B[0;32m    409\u001B[0m \u001B[38;5;28;01mif\u001B[39;00m \u001B[38;5;28mlen\u001B[39m(frequencies) \u001B[38;5;241m<\u001B[39m\u001B[38;5;241m=\u001B[39m \u001B[38;5;241m0\u001B[39m:\n\u001B[1;32m--> 410\u001B[0m     \u001B[38;5;28;01mraise\u001B[39;00m \u001B[38;5;167;01mValueError\u001B[39;00m(\u001B[38;5;124m\"\u001B[39m\u001B[38;5;124mWe need at least 1 word to plot a word cloud, \u001B[39m\u001B[38;5;124m\"\u001B[39m\n\u001B[0;32m    411\u001B[0m                      \u001B[38;5;124m\"\u001B[39m\u001B[38;5;124mgot \u001B[39m\u001B[38;5;132;01m%d\u001B[39;00m\u001B[38;5;124m.\u001B[39m\u001B[38;5;124m\"\u001B[39m \u001B[38;5;241m%\u001B[39m \u001B[38;5;28mlen\u001B[39m(frequencies))\n\u001B[0;32m    412\u001B[0m frequencies \u001B[38;5;241m=\u001B[39m frequencies[:\u001B[38;5;28mself\u001B[39m\u001B[38;5;241m.\u001B[39mmax_words]\n\u001B[0;32m    414\u001B[0m \u001B[38;5;66;03m# largest entry will be 1\u001B[39;00m\n",
      "\u001B[1;31mValueError\u001B[0m: We need at least 1 word to plot a word cloud, got 0."
     ]
    }
   ],
   "source": [
    "from wordcloud import WordCloud\n",
    "\n",
    "# Function to generate word clouds for each emotion\n",
    "def generate_word_clouds(data, column):\n",
    "    emotions = data[column].unique()\n",
    "    for emotion in emotions:\n",
    "        subset = data[data[column] == emotion]\n",
    "        text = \" \".join(review for review in subset.Context_Clean)\n",
    "        wordcloud = WordCloud(background_color=\"white\").generate(text)\n",
    "\n",
    "        # Display the generated image\n",
    "        plt.figure(figsize=(10,6))\n",
    "        plt.imshow(wordcloud, interpolation='bilinear')\n",
    "        plt.title(f\"Word Cloud for {emotion}\")\n",
    "        plt.axis(\"off\")\n",
    "        plt.show()\n",
    "\n",
    "generate_word_clouds(data, 'Context_Emotion')"
   ],
   "metadata": {
    "collapsed": false,
    "ExecuteTime": {
     "end_time": "2024-01-31T16:27:17.145128800Z",
     "start_time": "2024-01-31T16:27:16.993182700Z"
    }
   },
   "id": "89415803c06a88d5"
  },
  {
   "cell_type": "code",
   "execution_count": null,
   "outputs": [],
   "source": [
    "# Comparative bar chart\n",
    "emotion_categories = data['Context_Emotion'].unique()\n",
    "context_counts = data['Context_Emotion'].value_counts()\n",
    "response_counts = data['Response_Emotion'].value_counts()\n",
    "\n",
    "# Create a DataFrame for easy plotting\n",
    "emotion_comparison = pd.DataFrame({\n",
    "    'Context': context_counts,\n",
    "    'Response': response_counts\n",
    "}).reindex(emotion_categories).fillna(0)\n",
    "\n",
    "emotion_comparison.plot(kind='bar', figsize=(12, 6))\n",
    "plt.title('Comparative Emotion Counts in Context vs. Response')\n",
    "plt.xlabel('Emotion')\n",
    "plt.ylabel('Counts')\n",
    "plt.show()"
   ],
   "metadata": {
    "collapsed": false,
    "ExecuteTime": {
     "start_time": "2024-01-31T15:37:18.402695100Z"
    }
   },
   "id": "c5a30ee03f10ea68"
  },
  {
   "cell_type": "code",
   "execution_count": null,
   "outputs": [],
   "source": [
    "import networkx as nx\n",
    "\n",
    "# Create a graph from the emotion transitions DataFrame\n",
    "G = nx.from_pandas_adjacency(emotion_transitions)\n",
    "\n",
    "# Plot the network graph\n",
    "plt.figure(figsize=(12, 12))\n",
    "pos = nx.spring_layout(G, seed=7)  # for consistent layout\n",
    "nx.draw_networkx(G, pos, with_labels=True, node_color='skyblue', node_size=2000, edge_color='gray', linewidths=1, font_size=15)\n",
    "plt.title('Network Graph of Emotion Transitions')\n",
    "plt.show()"
   ],
   "metadata": {
    "collapsed": false,
    "ExecuteTime": {
     "start_time": "2024-01-31T15:37:18.404697500Z"
    }
   },
   "id": "ae0e1c13c5142e24"
  },
  {
   "cell_type": "code",
   "execution_count": null,
   "outputs": [],
   "source": [],
   "metadata": {
    "collapsed": false,
    "ExecuteTime": {
     "start_time": "2024-01-31T15:37:18.405696700Z"
    }
   },
   "id": "e45c22cabc879eef"
  }
 ],
 "metadata": {
  "kernelspec": {
   "display_name": "Python 3",
   "language": "python",
   "name": "python3"
  },
  "language_info": {
   "codemirror_mode": {
    "name": "ipython",
    "version": 2
   },
   "file_extension": ".py",
   "mimetype": "text/x-python",
   "name": "python",
   "nbconvert_exporter": "python",
   "pygments_lexer": "ipython2",
   "version": "2.7.6"
  }
 },
 "nbformat": 4,
 "nbformat_minor": 5
}
