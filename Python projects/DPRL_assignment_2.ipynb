{
 "cells": [
  {
   "cell_type": "code",
   "execution_count": 3,
   "outputs": [],
   "source": [
    "import numpy as np\n",
    "\n",
    "MAX_INVENTORY = 20\n",
    "ORDER_COST = 5\n",
    "HOLDING_COSTS = [1, 2]  # holding costs per product\n",
    "DEMAND_PROB = 0.5  \n",
    "TARGET_INVENTORY = 5  # reorder level\n",
    "REORDER_THRESHOLD = 1  # reorder when inventory reaches this threshold\n",
    "\n"
   ],
   "metadata": {
    "collapsed": false,
    "ExecuteTime": {
     "end_time": "2024-11-12T16:52:41.641793800Z",
     "start_time": "2024-11-12T16:52:41.628708400Z"
    }
   },
   "id": "32abb1a479ffda1e"
  },
  {
   "cell_type": "code",
   "execution_count": 6,
   "outputs": [],
   "source": [
    "states = [(i, j) for i in range(1, MAX_INVENTORY + 1) for j in range(1, MAX_INVENTORY + 1)]\n",
    "\n",
    "# Fixed Policy Function\n",
    "def fixed_policy(state):\n",
    "    inventory1, inventory2 = state\n",
    "    order1 = max(0, TARGET_INVENTORY - inventory1) if inventory1 == REORDER_THRESHOLD else 0\n",
    "    order2 = max(0, TARGET_INVENTORY - inventory2) if inventory2 == REORDER_THRESHOLD else 0\n",
    "    return order1, order2\n",
    "\n",
    "# Transition function\n",
    "def transition(state, action):\n",
    "    inv1, inv2 = state\n",
    "    order1, order2 = action\n",
    "    outcomes = [(0, 0, (1 - DEMAND_PROB) ** 2),\n",
    "                (0, 1, DEMAND_PROB * (1 - DEMAND_PROB)),\n",
    "                (1, 0, DEMAND_PROB * (1 - DEMAND_PROB)),\n",
    "                (1, 1, DEMAND_PROB ** 2)]\n",
    "    \n",
    "    next_states = {}\n",
    "    for d1, d2, prob in outcomes:\n",
    "        new_inv1 = min(inv1 + order1 - d1, MAX_INVENTORY)\n",
    "        new_inv2 = min(inv2 + order2 - d2, MAX_INVENTORY)\n",
    "        next_state = (max(1, new_inv1), max(1, new_inv2))\n",
    "        if next_state in next_states:\n",
    "            next_states[next_state] += prob\n",
    "        else:\n",
    "            next_states[next_state] = prob\n",
    "    return next_states\n",
    "\n",
    "# Cost function\n",
    "def cost(state):\n",
    "    return state[0] * HOLDING_COSTS[0] + state[1] * HOLDING_COSTS[1]"
   ],
   "metadata": {
    "collapsed": false,
    "ExecuteTime": {
     "end_time": "2024-11-12T17:03:15.942479600Z",
     "start_time": "2024-11-12T17:03:15.906817400Z"
    }
   },
   "id": "3eb24b6f71b65034"
  },
  {
   "cell_type": "code",
   "execution_count": 7,
   "outputs": [
    {
     "name": "stdout",
     "output_type": "stream",
     "text": [
      "Average cost under fixed policy: 15.0\n"
     ]
    }
   ],
   "source": [
    "\n",
    "# Simulation under Fixed Policy\n",
    "def simulate_fixed_policy(time_steps=10000):\n",
    "    state = (TARGET_INVENTORY, TARGET_INVENTORY)\n",
    "    total_cost = 0\n",
    "\n",
    "    for _ in range(time_steps):\n",
    "        holding_cost = cost(state)\n",
    "        total_cost += cost(state)\n",
    "        \n",
    "         # Apply fixed policy\n",
    "        action = fixed_policy(state)\n",
    "        if action != (0, 0):\n",
    "            total_cost += ORDER_COST\n",
    "\n",
    "        # Calculate next state based on demand\n",
    "        next_states = transition(state, action)\n",
    "        state = max(next_states, key=next_states.get)  # select most probable state\n",
    "\n",
    "    return total_cost / time_steps\n",
    "\n",
    "print(\"Average cost under fixed policy:\", simulate_fixed_policy())\n"
   ],
   "metadata": {
    "collapsed": false,
    "ExecuteTime": {
     "end_time": "2024-11-12T17:03:18.442500500Z",
     "start_time": "2024-11-12T17:03:18.376635700Z"
    }
   },
   "id": "e0fa974808c86e32"
  },
  {
   "cell_type": "code",
   "execution_count": null,
   "outputs": [],
   "source": [
    "# limiting distribution?\n",
    "\n",
    "\n",
    "# Value Iteration for Bellman Equation\n",
    "def value_iteration_poisson():\n",
    "    V = {s: 0 for s in states}\n",
    "    delta = float('inf')\n",
    "    epsilon = 1e-6 \n",
    "    \n",
    "    while delta > epsilon:\n",
    "        delta = 0\n",
    "        for state in states:\n",
    "            # Expected cost calculation here\n",
    "            action_costs = []\n",
    "            for action in [(0, 0), (TARGET_INVENTORY - state[0], TARGET_INVENTORY - state[1])]:\n",
    "                expected_cost = cost(state) + (ORDER_COST if action != (0, 0) else 0)\n",
    "                \n",
    "                # Transition probabilities and update\n",
    "                next_states = transition(state, action)\n",
    "                expected_cost += sum(prob * V[next_state] for next_state, prob in next_states.items())\n",
    "                \n",
    "                action_costs.append(expected_cost)\n",
    "            \n",
    "            min_cost = min(action_costs)\n",
    "            delta = max(delta, abs(min_cost - V[state]))\n",
    "            V[state] = min_cost\n",
    "\n",
    "    return V\n",
    "\n",
    "\n",
    "print(\"Optimal average cost via value iteration:\", min(value_iteration_poisson().values()))\n"
   ],
   "metadata": {
    "collapsed": false,
    "is_executing": true,
    "ExecuteTime": {
     "start_time": "2024-11-12T17:04:10.369108100Z"
    }
   },
   "id": "d82f98e92556986f"
  },
  {
   "cell_type": "code",
   "execution_count": null,
   "outputs": [],
   "source": [],
   "metadata": {
    "collapsed": false
   },
   "id": "284d006ce2467eac"
  }
 ],
 "metadata": {
  "kernelspec": {
   "display_name": "Python 3",
   "language": "python",
   "name": "python3"
  },
  "language_info": {
   "codemirror_mode": {
    "name": "ipython",
    "version": 2
   },
   "file_extension": ".py",
   "mimetype": "text/x-python",
   "name": "python",
   "nbconvert_exporter": "python",
   "pygments_lexer": "ipython2",
   "version": "2.7.6"
  }
 },
 "nbformat": 4,
 "nbformat_minor": 5
}
