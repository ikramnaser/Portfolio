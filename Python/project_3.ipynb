{
 "cells": [
  {
   "cell_type": "markdown",
   "source": [
    "### Analyze and understand the relationship between various urban factors and the happiness of a city's population using Reinforcement Learning"
   ],
   "metadata": {
    "collapsed": false
   },
   "id": "ffc2ca0bd9b01669"
  },
  {
   "cell_type": "code",
   "execution_count": 1,
   "outputs": [
    {
     "name": "stderr",
     "output_type": "stream",
     "text": [
      "C:\\Users\\ikry\\AppData\\Local\\Temp\\ipykernel_11900\\2035458946.py:1: DeprecationWarning: \n",
      "Pyarrow will become a required dependency of pandas in the next major release of pandas (pandas 3.0),\n",
      "(to allow more performant data types, such as the Arrow string type, and better interoperability with other libraries)\n",
      "but was not found to be installed on your system.\n",
      "If this would cause problems for you,\n",
      "please provide us feedback at https://github.com/pandas-dev/pandas/issues/54466\n",
      "        \n",
      "  import pandas as pd\n"
     ]
    }
   ],
   "source": [
    "import pandas as pd"
   ],
   "metadata": {
    "collapsed": false,
    "ExecuteTime": {
     "end_time": "2024-01-27T14:21:17.189660500Z",
     "start_time": "2024-01-27T14:21:16.485856Z"
    }
   },
   "id": "be6c7ad4df540cfc"
  },
  {
   "cell_type": "code",
   "execution_count": 4,
   "outputs": [
    {
     "data": {
      "text/plain": "         Year  Decibel_Level  Green_Space_Area  Air_Quality_Index  \\\ncount    51.0      51.000000         51.000000          51.000000   \nmean   2030.0      63.333333         46.666667          66.666667   \nstd       0.0       8.103497         20.116328          41.432676   \nmin    2030.0      50.000000         10.000000          25.000000   \n25%    2030.0      57.500000         32.500000          40.000000   \n50%    2030.0      60.000000         45.000000          55.000000   \n75%    2030.0      70.000000         62.500000          77.500000   \nmax    2030.0      85.000000         80.000000         220.000000   \n\n       Happiness_Score  Cost_of_Living_Index  Healthcare_Index  \ncount        51.000000             51.000000         51.000000  \nmean          6.919608             83.823529         83.705882  \nstd           1.265546             24.074639         12.954218  \nmin           3.900000             35.000000         43.000000  \n25%           6.350000             65.000000         74.500000  \n50%           7.300000             85.000000         88.000000  \n75%           7.850000            102.500000         93.500000  \nmax           8.700000            130.000000        104.000000  ",
      "text/html": "<div>\n<style scoped>\n    .dataframe tbody tr th:only-of-type {\n        vertical-align: middle;\n    }\n\n    .dataframe tbody tr th {\n        vertical-align: top;\n    }\n\n    .dataframe thead th {\n        text-align: right;\n    }\n</style>\n<table border=\"1\" class=\"dataframe\">\n  <thead>\n    <tr style=\"text-align: right;\">\n      <th></th>\n      <th>Year</th>\n      <th>Decibel_Level</th>\n      <th>Green_Space_Area</th>\n      <th>Air_Quality_Index</th>\n      <th>Happiness_Score</th>\n      <th>Cost_of_Living_Index</th>\n      <th>Healthcare_Index</th>\n    </tr>\n  </thead>\n  <tbody>\n    <tr>\n      <th>count</th>\n      <td>51.0</td>\n      <td>51.000000</td>\n      <td>51.000000</td>\n      <td>51.000000</td>\n      <td>51.000000</td>\n      <td>51.000000</td>\n      <td>51.000000</td>\n    </tr>\n    <tr>\n      <th>mean</th>\n      <td>2030.0</td>\n      <td>63.333333</td>\n      <td>46.666667</td>\n      <td>66.666667</td>\n      <td>6.919608</td>\n      <td>83.823529</td>\n      <td>83.705882</td>\n    </tr>\n    <tr>\n      <th>std</th>\n      <td>0.0</td>\n      <td>8.103497</td>\n      <td>20.116328</td>\n      <td>41.432676</td>\n      <td>1.265546</td>\n      <td>24.074639</td>\n      <td>12.954218</td>\n    </tr>\n    <tr>\n      <th>min</th>\n      <td>2030.0</td>\n      <td>50.000000</td>\n      <td>10.000000</td>\n      <td>25.000000</td>\n      <td>3.900000</td>\n      <td>35.000000</td>\n      <td>43.000000</td>\n    </tr>\n    <tr>\n      <th>25%</th>\n      <td>2030.0</td>\n      <td>57.500000</td>\n      <td>32.500000</td>\n      <td>40.000000</td>\n      <td>6.350000</td>\n      <td>65.000000</td>\n      <td>74.500000</td>\n    </tr>\n    <tr>\n      <th>50%</th>\n      <td>2030.0</td>\n      <td>60.000000</td>\n      <td>45.000000</td>\n      <td>55.000000</td>\n      <td>7.300000</td>\n      <td>85.000000</td>\n      <td>88.000000</td>\n    </tr>\n    <tr>\n      <th>75%</th>\n      <td>2030.0</td>\n      <td>70.000000</td>\n      <td>62.500000</td>\n      <td>77.500000</td>\n      <td>7.850000</td>\n      <td>102.500000</td>\n      <td>93.500000</td>\n    </tr>\n    <tr>\n      <th>max</th>\n      <td>2030.0</td>\n      <td>85.000000</td>\n      <td>80.000000</td>\n      <td>220.000000</td>\n      <td>8.700000</td>\n      <td>130.000000</td>\n      <td>104.000000</td>\n    </tr>\n  </tbody>\n</table>\n</div>"
     },
     "execution_count": 4,
     "metadata": {},
     "output_type": "execute_result"
    }
   ],
   "source": [
    "train_data = pd.read_csv(\"C:/Users/ikry/OneDrive/Desktop/MSc DS/PROJECTS/city_happiness_index/train.csv\")\n",
    "test_data = pd.read_csv(\"C:/Users/ikry/OneDrive/Desktop/MSc DS/PROJECTS/city_happiness_index/test.csv\")\n",
    "\n",
    "train = train_data.copy()\n",
    "test = test_data.copy()\n",
    "\n",
    "train.describe()"
   ],
   "metadata": {
    "collapsed": false,
    "ExecuteTime": {
     "end_time": "2024-01-27T14:26:15.671219500Z",
     "start_time": "2024-01-27T14:26:15.566183700Z"
    }
   },
   "id": "4a1e1b3a0723846a"
  },
  {
   "cell_type": "code",
   "execution_count": 5,
   "outputs": [
    {
     "data": {
      "text/plain": "         Year  Decibel_Level  Green_Space_Area  Air_Quality_Index  \\\ncount    51.0      51.000000         51.000000          51.000000   \nmean   2030.0      63.333333         46.666667          66.666667   \nstd       0.0       8.103497         20.116328          41.432676   \nmin    2030.0      50.000000         10.000000          25.000000   \n25%    2030.0      57.500000         32.500000          40.000000   \n50%    2030.0      60.000000         45.000000          55.000000   \n75%    2030.0      70.000000         62.500000          77.500000   \nmax    2030.0      85.000000         80.000000         220.000000   \n\n       Happiness_Score  Cost_of_Living_Index  Healthcare_Index  \ncount        51.000000             51.000000         51.000000  \nmean          6.919608             83.823529         83.705882  \nstd           1.265546             24.074639         12.954218  \nmin           3.900000             35.000000         43.000000  \n25%           6.350000             65.000000         74.500000  \n50%           7.300000             85.000000         88.000000  \n75%           7.850000            102.500000         93.500000  \nmax           8.700000            130.000000        104.000000  ",
      "text/html": "<div>\n<style scoped>\n    .dataframe tbody tr th:only-of-type {\n        vertical-align: middle;\n    }\n\n    .dataframe tbody tr th {\n        vertical-align: top;\n    }\n\n    .dataframe thead th {\n        text-align: right;\n    }\n</style>\n<table border=\"1\" class=\"dataframe\">\n  <thead>\n    <tr style=\"text-align: right;\">\n      <th></th>\n      <th>Year</th>\n      <th>Decibel_Level</th>\n      <th>Green_Space_Area</th>\n      <th>Air_Quality_Index</th>\n      <th>Happiness_Score</th>\n      <th>Cost_of_Living_Index</th>\n      <th>Healthcare_Index</th>\n    </tr>\n  </thead>\n  <tbody>\n    <tr>\n      <th>count</th>\n      <td>51.0</td>\n      <td>51.000000</td>\n      <td>51.000000</td>\n      <td>51.000000</td>\n      <td>51.000000</td>\n      <td>51.000000</td>\n      <td>51.000000</td>\n    </tr>\n    <tr>\n      <th>mean</th>\n      <td>2030.0</td>\n      <td>63.333333</td>\n      <td>46.666667</td>\n      <td>66.666667</td>\n      <td>6.919608</td>\n      <td>83.823529</td>\n      <td>83.705882</td>\n    </tr>\n    <tr>\n      <th>std</th>\n      <td>0.0</td>\n      <td>8.103497</td>\n      <td>20.116328</td>\n      <td>41.432676</td>\n      <td>1.265546</td>\n      <td>24.074639</td>\n      <td>12.954218</td>\n    </tr>\n    <tr>\n      <th>min</th>\n      <td>2030.0</td>\n      <td>50.000000</td>\n      <td>10.000000</td>\n      <td>25.000000</td>\n      <td>3.900000</td>\n      <td>35.000000</td>\n      <td>43.000000</td>\n    </tr>\n    <tr>\n      <th>25%</th>\n      <td>2030.0</td>\n      <td>57.500000</td>\n      <td>32.500000</td>\n      <td>40.000000</td>\n      <td>6.350000</td>\n      <td>65.000000</td>\n      <td>74.500000</td>\n    </tr>\n    <tr>\n      <th>50%</th>\n      <td>2030.0</td>\n      <td>60.000000</td>\n      <td>45.000000</td>\n      <td>55.000000</td>\n      <td>7.300000</td>\n      <td>85.000000</td>\n      <td>88.000000</td>\n    </tr>\n    <tr>\n      <th>75%</th>\n      <td>2030.0</td>\n      <td>70.000000</td>\n      <td>62.500000</td>\n      <td>77.500000</td>\n      <td>7.850000</td>\n      <td>102.500000</td>\n      <td>93.500000</td>\n    </tr>\n    <tr>\n      <th>max</th>\n      <td>2030.0</td>\n      <td>85.000000</td>\n      <td>80.000000</td>\n      <td>220.000000</td>\n      <td>8.700000</td>\n      <td>130.000000</td>\n      <td>104.000000</td>\n    </tr>\n  </tbody>\n</table>\n</div>"
     },
     "execution_count": 5,
     "metadata": {},
     "output_type": "execute_result"
    }
   ],
   "source": [
    "test.describe()"
   ],
   "metadata": {
    "collapsed": false,
    "ExecuteTime": {
     "end_time": "2024-01-27T14:27:03.054807700Z",
     "start_time": "2024-01-27T14:27:03.019979Z"
    }
   },
   "id": "73719d22848c2eaf"
  },
  {
   "cell_type": "code",
   "execution_count": null,
   "outputs": [],
   "source": [],
   "metadata": {
    "collapsed": false
   },
   "id": "fa251bfd954a961"
  }
 ],
 "metadata": {
  "kernelspec": {
   "display_name": "Python 3",
   "language": "python",
   "name": "python3"
  },
  "language_info": {
   "codemirror_mode": {
    "name": "ipython",
    "version": 2
   },
   "file_extension": ".py",
   "mimetype": "text/x-python",
   "name": "python",
   "nbconvert_exporter": "python",
   "pygments_lexer": "ipython2",
   "version": "2.7.6"
  }
 },
 "nbformat": 4,
 "nbformat_minor": 5
}
